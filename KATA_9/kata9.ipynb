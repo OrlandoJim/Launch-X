{
 "cells": [
  {
   "cell_type": "markdown",
   "metadata": {},
   "source": [
    "# Ejercicio 1: Uso de funciones en Python"
   ]
  },
  {
   "cell_type": "code",
   "execution_count": 9,
   "metadata": {},
   "outputs": [],
   "source": [
    "#Funcion para leer 3 tanques de combustible y muestre el promedio\n",
    "def tanques(tanqueUno, tanqueDos, tanqueTres):\n",
    "    totalTanques = (tanqueUno+tanqueDos+tanqueTres)/3\n",
    "    return f\"\"\"Tanque principal: {tanqueUno}%\n",
    "    Tanque #2 {tanqueDos}%\n",
    "    Tanque #3 {tanqueTres}%\n",
    "    Promedio de combustible: {totalTanques}%\"\"\""
   ]
  },
  {
   "cell_type": "code",
   "execution_count": 10,
   "metadata": {},
   "outputs": [
    {
     "name": "stdout",
     "output_type": "stream",
     "text": [
      "Tanque principal: 50%\n",
      "    Tanque #2 100%\n",
      "    Tanque #3 200%\n",
      "    Promedio de combustible: 116.66666666666667%\n"
     ]
    }
   ],
   "source": [
    "# Llamamos a la función que genera el reporte print(funcion(tanque1, tanque2, tanque3))\n",
    "print(tanques(50,100,200))"
   ]
  },
  {
   "cell_type": "code",
   "execution_count": 11,
   "metadata": {},
   "outputs": [
    {
     "data": {
      "text/plain": [
       "53.333333333333336"
      ]
     },
     "execution_count": 11,
     "metadata": {},
     "output_type": "execute_result"
    }
   ],
   "source": [
    "# Función promedio \n",
    "\n",
    "def promedio(valores):\n",
    "    total = sum(valores)\n",
    "    num_de_valores= len(valores)\n",
    "    return total/num_de_valores\n",
    "\n",
    "promedio([80,20,60,70,50,40])"
   ]
  },
  {
   "cell_type": "code",
   "execution_count": 13,
   "metadata": {},
   "outputs": [
    {
     "name": "stdout",
     "output_type": "stream",
     "text": [
      "Tanque principal: 50%\n",
      "    Tanque #2 60%\n",
      "    Tanque #3 50%\n",
      "    Promedio de combustible: 53.333333333333336\n"
     ]
    }
   ],
   "source": [
    "# Actualiza la función\n",
    "def reporte(tanqueUno, tanqueDos, tanqueTres):\n",
    "    return f\"\"\"Tanque principal: {tanqueUno}%\n",
    "    Tanque #2 {tanqueDos}%\n",
    "    Tanque #3 {tanqueTres}%\n",
    "    Promedio de combustible: {promedio([tanqueUno,tanqueDos,tanqueTres])}\"\"\"\n",
    "\n",
    "print(reporte(50,60,50))"
   ]
  },
  {
   "cell_type": "markdown",
   "metadata": {},
   "source": [
    "# Ejercicio 2: Trabajo con argumentos de palabra clave"
   ]
  },
  {
   "cell_type": "code",
   "execution_count": 15,
   "metadata": {},
   "outputs": [
    {
     "name": "stdout",
     "output_type": "stream",
     "text": [
      "\n",
      "    Destino: Marte\n",
      "    Tiempo del viaje: 100 minutos\n",
      "    Total de combustible restante: 777777 litros\n",
      "    \n"
     ]
    }
   ],
   "source": [
    "# Función con un informe preciso de la misión. Considera hora de prelanzamiento, tiempo de vuelo, destino, tanque externo y tanque interno\n",
    "def reporteMision(preLanzamiento, tiempoDeVuelo, destino, tanqueExterno, tanquePrincipal):\n",
    "    return f\"\"\"\n",
    "    Destino: {destino}\n",
    "    Tiempo del viaje: {preLanzamiento + tiempoDeVuelo} minutos\n",
    "    Total de combustible restante: {tanqueExterno + tanquePrincipal} litros\n",
    "    \"\"\"\n",
    "\n",
    "print(reporteMision(10, 90, \"Marte\", 654321, 123456))"
   ]
  },
  {
   "cell_type": "code",
   "execution_count": 18,
   "metadata": {},
   "outputs": [
    {
     "name": "stdout",
     "output_type": "stream",
     "text": [
      "\n",
      "    Destino: Marte\n",
      "    Tiempo del viaje: 200 minutos\n",
      "    Total de combustible restante: 777777 litros\n",
      "    \n"
     ]
    }
   ],
   "source": [
    "# Escribe tu nueva función de reporte considerando lo anterior\n",
    "def reporteMision(destino,*minutos,**tanquesCombustiblel):\n",
    "    return f\"\"\"\n",
    "    Destino: {destino}\n",
    "    Tiempo del viaje: {sum(minutos)} minutos\n",
    "    Total de combustible restante: {sum(tanquesCombustiblel.values())} litros\n",
    "    \"\"\"\n",
    "\n",
    "print(reporteMision(\"Marte\",10,90,100, tanquePrincipal=654321, tanqueSecundario=123456))"
   ]
  },
  {
   "cell_type": "code",
   "execution_count": 19,
   "metadata": {},
   "outputs": [
    {
     "name": "stdout",
     "output_type": "stream",
     "text": [
      "\n",
      "    Destino: Marte\n",
      "    Tiempo del viaje: 200 minutos\n",
      "    Total de combustible restante: 777777 litros\n",
      "    Tanque tanquePrincipal --> 654321 litros disponibles\n",
      "Tanque tanqueSecundario --> 123456 litros disponibles\n",
      "\n"
     ]
    }
   ],
   "source": [
    "# Escribe tu nueva función\n",
    "\n",
    "def reporteMision(destino,*minutos,**tanquesCombustiblel):\n",
    "    reporteDeMision= f\"\"\"\n",
    "    Destino: {destino}\n",
    "    Tiempo del viaje: {sum(minutos)} minutos\n",
    "    Total de combustible restante: {sum(tanquesCombustiblel.values())} litros\n",
    "    \"\"\"\n",
    "    for numeroTanque, litros in tanquesCombustiblel.items():\n",
    "        reporteDeMision += f\"Tanque {numeroTanque} --> {litros} litros disponibles\\n\"\n",
    "    return reporteDeMision\n",
    "\n",
    "print(reporteMision(\"Marte\",10,90,100, tanquePrincipal=654321, tanqueSecundario=123456))"
   ]
  }
 ],
 "metadata": {
  "interpreter": {
   "hash": "eb0481407d97aac6e0c00625ae34a76774e40243aaa440c45e633651bd75ee1d"
  },
  "kernelspec": {
   "display_name": "Python 3.10.2 64-bit (windows store)",
   "language": "python",
   "name": "python3"
  },
  "language_info": {
   "codemirror_mode": {
    "name": "ipython",
    "version": 3
   },
   "file_extension": ".py",
   "mimetype": "text/x-python",
   "name": "python",
   "nbconvert_exporter": "python",
   "pygments_lexer": "ipython3",
   "version": "3.10.2"
  },
  "orig_nbformat": 4
 },
 "nbformat": 4,
 "nbformat_minor": 2
}
