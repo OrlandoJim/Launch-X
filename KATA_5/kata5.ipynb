{
 "cells": [
  {
   "cell_type": "markdown",
   "metadata": {},
   "source": [
    "# Ejercicio 1 - Utilizar operadores aritméticos"
   ]
  },
  {
   "cell_type": "code",
   "execution_count": 2,
   "metadata": {},
   "outputs": [],
   "source": [
    "#Calcular distancia entre dos planetas\n",
    "tierra = 149597870 #en km\n",
    "jupiter = 778547200 #en km"
   ]
  },
  {
   "cell_type": "code",
   "execution_count": 10,
   "metadata": {},
   "outputs": [
    {
     "name": "stdout",
     "output_type": "stream",
     "text": [
      "La distancia entre los planetas es: \n",
      "en Kilometros: 628949330\n",
      "en Millas: 390577534\n"
     ]
    }
   ],
   "source": [
    "#Calcular la distancia entre planetas\n",
    "distancia_km = tierra-jupiter\n",
    "distancia_millas = distancia_km * 0.621\n",
    "print(\"La distancia entre los planetas es: \\n\" + \n",
    "    \"en Kilometros: \" + str(abs(distancia_km)) + \n",
    "    \"\\nen Millas: \" +str(round(abs(distancia_millas))))"
   ]
  },
  {
   "cell_type": "markdown",
   "metadata": {},
   "source": [
    "# Ejercicio 2 - convierte cadenas en números y usa valores absolutos"
   ]
  },
  {
   "cell_type": "code",
   "execution_count": 20,
   "metadata": {},
   "outputs": [
    {
     "name": "stdout",
     "output_type": "stream",
     "text": [
      "Insterta la distancia del sol para cada planeta\n"
     ]
    }
   ],
   "source": [
    "#Almacenar entrada de usuarios\n",
    "print(\"Insterta la distancia del sol para cada planeta\")\n",
    "mercurio = input(\"Insterta la distancia del sol a Mercurio\")\n",
    "venus = input(\"Insterta la distancia del sol a Venus\")"
   ]
  },
  {
   "cell_type": "code",
   "execution_count": 21,
   "metadata": {},
   "outputs": [],
   "source": [
    "# Convierte las cadenas de ambos planetas a números enteros\n",
    "mercurio = int(mercurio)\n",
    "venus = int(venus)"
   ]
  },
  {
   "cell_type": "code",
   "execution_count": 22,
   "metadata": {},
   "outputs": [
    {
     "name": "stdout",
     "output_type": "stream",
     "text": [
      "La distancia en KM entre planetas es: 50300000\n",
      "La distancia en MI entre planetas es: 31236300\n"
     ]
    }
   ],
   "source": [
    "# Realizar el cálculo y determinar el valor absoluto\n",
    "distancia = abs(mercurio - venus)\n",
    "\n",
    "# Convertir de KM a Millas\n",
    "\n",
    "distanciaEnMillas = round(distancia * 0.621)\n",
    "\n",
    "print(\"La distancia en KM entre planetas es: \"+ str(distancia))\n",
    "print(\"La distancia en MI entre planetas es: \"+ str(distanciaEnMillas))\n"
   ]
  }
 ],
 "metadata": {
  "interpreter": {
   "hash": "eb0481407d97aac6e0c00625ae34a76774e40243aaa440c45e633651bd75ee1d"
  },
  "kernelspec": {
   "display_name": "Python 3.10.2 64-bit (windows store)",
   "language": "python",
   "name": "python3"
  },
  "language_info": {
   "codemirror_mode": {
    "name": "ipython",
    "version": 3
   },
   "file_extension": ".py",
   "mimetype": "text/x-python",
   "name": "python",
   "nbconvert_exporter": "python",
   "pygments_lexer": "ipython3",
   "version": "3.10.2"
  },
  "orig_nbformat": 4
 },
 "nbformat": 4,
 "nbformat_minor": 2
}
