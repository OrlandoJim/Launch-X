{
 "cells": [
  {
   "cell_type": "markdown",
   "metadata": {},
   "source": [
    "# Ejercicio 1: Crear y usar listas de Python"
   ]
  },
  {
   "cell_type": "code",
   "execution_count": 1,
   "metadata": {},
   "outputs": [
    {
     "name": "stdout",
     "output_type": "stream",
     "text": [
      "['mercurio', 'venus', 'tierra', 'marte', 'jupiter', 'saturno', 'urano', 'neptuno']\n"
     ]
    }
   ],
   "source": [
    "#Creamos la lista de planets y la mostramos\n",
    "planets=['mercurio', 'venus', 'tierra','marte','jupiter','saturno','urano','neptuno']\n",
    "print(planets)"
   ]
  },
  {
   "cell_type": "code",
   "execution_count": 7,
   "metadata": {},
   "outputs": [
    {
     "name": "stdout",
     "output_type": "stream",
     "text": [
      "pluton\n",
      "['mercurio', 'venus', 'tierra', 'marte', 'jupiter', 'saturno', 'urano', 'neptuno', 'pluton']\n"
     ]
    }
   ],
   "source": [
    "planets.append('pluton')\n",
    "print(planets[-1])"
   ]
  },
  {
   "cell_type": "markdown",
   "metadata": {},
   "source": [
    "# Ejercicio 2: Trabajado con los datos de una lista"
   ]
  },
  {
   "cell_type": "code",
   "execution_count": 8,
   "metadata": {},
   "outputs": [
    {
     "name": "stdout",
     "output_type": "stream",
     "text": [
      "['mercurio', 'venus', 'tierra', 'marte', 'jupiter', 'saturno', 'urano', 'neptuno']\n"
     ]
    }
   ],
   "source": [
    "planetas=['mercurio', 'venus', 'tierra','marte','jupiter','saturno','urano','neptuno']\n",
    "print(planetas)"
   ]
  },
  {
   "cell_type": "code",
   "execution_count": 10,
   "metadata": {},
   "outputs": [],
   "source": [
    "#Solicitamos el nombre de un planeta\n",
    "buscarPlaneta= input(\"EScribe el nombre del planeta a buscar\")"
   ]
  },
  {
   "cell_type": "code",
   "execution_count": 16,
   "metadata": {},
   "outputs": [
    {
     "name": "stdout",
     "output_type": "stream",
     "text": [
      "La posicion del planeta marte respecto al sol es: 4\n"
     ]
    }
   ],
   "source": [
    "#Buscar el planeta en la lista\n",
    "posicion=planetas.index(buscarPlaneta)\n",
    "print(\"La posicion del planeta \"+buscarPlaneta+\" respecto al sol es: \"+str(posicion+1))"
   ]
  },
  {
   "cell_type": "code",
   "execution_count": 18,
   "metadata": {},
   "outputs": [
    {
     "name": "stdout",
     "output_type": "stream",
     "text": [
      "Los planetas más cernanos al sol, antes que marteson:['mercurio', 'venus', 'tierra']\n"
     ]
    }
   ],
   "source": [
    "#Muestra planetas mas cercanos al sol\n",
    "print(\"Los planetas más cernanos al sol, antes que \"+buscarPlaneta+ \"son:\"+\n",
    "str(planetas[0:posicion]))"
   ]
  },
  {
   "cell_type": "code",
   "execution_count": 20,
   "metadata": {},
   "outputs": [
    {
     "name": "stdout",
     "output_type": "stream",
     "text": [
      "Los planetas más alejados del sol, antes que marteson:['jupiter', 'saturno', 'urano', 'neptuno']\n"
     ]
    }
   ],
   "source": [
    "#Muestra planetas más alejados del sol\n",
    "print(\"Los planetas más alejados del sol, antes que \"+buscarPlaneta+ \"son:\"+\n",
    "str(planetas[posicion+1:]))"
   ]
  }
 ],
 "metadata": {
  "interpreter": {
   "hash": "eb0481407d97aac6e0c00625ae34a76774e40243aaa440c45e633651bd75ee1d"
  },
  "kernelspec": {
   "display_name": "Python 3.10.2 64-bit (windows store)",
   "language": "python",
   "name": "python3"
  },
  "language_info": {
   "codemirror_mode": {
    "name": "ipython",
    "version": 3
   },
   "file_extension": ".py",
   "mimetype": "text/x-python",
   "name": "python",
   "nbconvert_exporter": "python",
   "pygments_lexer": "ipython3",
   "version": "3.10.2"
  },
  "orig_nbformat": 4
 },
 "nbformat": 4,
 "nbformat_minor": 2
}
